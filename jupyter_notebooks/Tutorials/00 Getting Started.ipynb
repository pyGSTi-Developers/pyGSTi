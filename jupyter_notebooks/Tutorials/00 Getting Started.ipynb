{
 "cells": [
  {
   "cell_type": "markdown",
   "metadata": {
    "deletable": true,
    "editable": true
   },
   "source": [
    "# Getting started with pyGSTi and Gate Set Tomography"
   ]
  },
  {
   "cell_type": "markdown",
   "metadata": {
    "deletable": true,
    "editable": true
   },
   "source": [
    "The `pygsti` package provides multiple levels of abstraction over the core Gate Set Tomography (GST) algorithms.  This initial tutorial will show you how to run Gate Set Tomography on some simulated (generated) data, hopefully giving you an overall sense of what it takes (and how easy it is!) to run GST.  Subsequent tutorials will delve into the details of `pygsti` objects and algorithms, and how to use them in detail.\n",
    "\n",
    "To run GST, we need three inputs:\n",
    "1. a \"**target gate set**\" which describes the desired, or ideal, operations we want our experimental hardware to perform.  In the example below, we use one of pyGSTi's \"standard\" gate sets - the on acting on a single qubit with the following operations:\n",
    "    - three gates: the identity, and $\\pi/2$ rotations around the $x$- and $y$-axes.\n",
    "    - a single state preparation in the $|0\\rangle$ state.\n",
    "    - a 2-outcome measurement with the label \"plus\" associated with measuring $|1\\rangle$ and \"minus\" with measuring $|0\\rangle$.\n",
    "    \n",
    "2. a list of GST sequences corresponding to the target gate set; essentially a list of what experiments (= gate sequences) we need to run.  Using a standard gate set makes things especially straightforward here, since the building blocks, called *germ* and *fiducial* sequences needed to make good GST sequences have already been computed.\n",
    "\n",
    "3. data, in the form of experimental outcome counts, for each of the required sequences.  In this example we'll generate \"fake\" or \"simulated\" data from a depolarized version of our ideal gate set.\n"
   ]
  },
  {
   "cell_type": "code",
   "execution_count": 1,
   "metadata": {
    "collapsed": false,
    "deletable": true,
    "editable": true
   },
   "outputs": [],
   "source": [
    "#Make print statements compatible with Python 2 and 3\n",
    "from __future__ import print_function\n",
    "\n",
    "#Import the pygsti module (always do this) and the standard XYI gate set\n",
    "import pygsti\n",
    "from pygsti.construction import std1Q_XYI\n",
    "\n",
    "# 1) get the target GateSet\n",
    "gs_target = std1Q_XYI.gs_target\n",
    "\n",
    "# 2) get the building blocks needed to specify which gate sequences are needed\n",
    "prep_fiducials, meas_fiducials = std1Q_XYI.prepStrs, std1Q_XYI.effectStrs\n",
    "germs = std1Q_XYI.germs\n",
    "maxLengths = [1,2,4,8,16,32] # roughly gives the length of the sequences used by GST\n",
    "\n",
    "# 3) generate \"fake\" data from a depolarized version of gs_target\n",
    "gs_datagen = gs_target.depolarize(gate_noise=0.1, spam_noise=0.001)\n",
    "listOfExperiments = pygsti.construction.make_lsgst_experiment_list(\n",
    "    gs_target, prep_fiducials, meas_fiducials, germs, maxLengths)\n",
    "ds = pygsti.construction.generate_fake_data(gs_datagen, listOfExperiments, nSamples=1000,\n",
    "                                            sampleError=\"binomial\", seed=1234)\n",
    "\n",
    "#Note: from listOfExperiments we can also create an empty dataset file\n",
    "# which has columns of zeros where actual data should go. \n",
    "pygsti.io.write_empty_dataset(\"tutorial_files/GettingStartedDataTemplate.txt\", listOfExperiments,\n",
    "                              \"## Columns = plus count, count total\")\n",
    "# After replacing the zeros with actual data, the data set can be \n",
    "# loaded back into pyGSTi using the line below and used in the rest\n",
    "# of this tutorial. \n",
    "#ds = pygsti.io.load_dataset(\"tutorial_files/GettingStartedDataTemplate.txt\")\n"
   ]
  },
  {
   "cell_type": "markdown",
   "metadata": {
    "collapsed": false,
    "deletable": true,
    "editable": true
   },
   "source": [
    "Now that we have all of the inputs, we can run GST in a standard way using the `do_stdpractice_gst` high-level driver function.  This returns a `pygsti.report.Results` object, from which we can generate a report giving us a summary of the analysis.   "
   ]
  },
  {
   "cell_type": "code",
   "execution_count": 2,
   "metadata": {
    "collapsed": false,
    "deletable": true,
    "editable": true
   },
   "outputs": [
    {
     "name": "stdout",
     "output_type": "stream",
     "text": [
      "-- Std Practice:  Iter 1 of 3  (TP) --: \n",
      "  --- Gate Sequence Creation ---\n",
      "   1585 sequences created\n",
      "   Dataset has 1585 entries: 1585 utilized, 0 requested sequences were missing\n",
      "  --- LGST ---\n",
      "  --- Iterative MLGST: [##################################################] 100.0%  1585 gate strings ---\n",
      "  Iterative MLGST Total Time: 2.2s\n",
      "-- Std Practice:  Iter 2 of 3  (CPTP) --: \n",
      "  --- Gate Sequence Creation ---\n",
      "   1585 sequences created\n",
      "   Dataset has 1585 entries: 1585 utilized, 0 requested sequences were missing\n",
      "  --- Iterative MLGST: [##################################################] 100.0%  1585 gate strings ---\n",
      "  Iterative MLGST Total Time: 3.2s\n",
      "-- Std Practice:  Iter 3 of 3  (Target) --: \n",
      "*** Generating tables ***\n",
      "*** Generating plots ***\n",
      "*** Merging into template file ***\n",
      "Output written to tutorial_files/gettingStartedReport.html\n"
     ]
    }
   ],
   "source": [
    "#Run GST and create a report\n",
    "results = pygsti.do_stdpractice_gst(ds, gs_target, prep_fiducials, meas_fiducials, germs, maxLengths)\n",
    "pygsti.report.create_general_report(results, filename=\"tutorial_files/gettingStartedReport.html\", verbosity=2)"
   ]
  },
  {
   "cell_type": "markdown",
   "metadata": {
    "collapsed": false,
    "deletable": true,
    "editable": true
   },
   "source": [
    "You can now open the file [tutorial_files/gettingStartedReport.html](tutorial_files/gettingStartedReport.html) in your browser to view the report.  **That's it!  You've just run GST!**\n",
    "\n",
    "The other tutorials in this directory will explain how to use the various objects and algorithms that comprise pyGSTi. These **tutorial notebooks are meant to be fairly pedagogical** and include details about the inner workings of and design choices within pyGSTi.  In contrast, the **\"FAQ\" directory contains notebooks with attempt to address specific questions as quickly and directly as possible, with little or no explanation of related topics or broader context**. "
   ]
  },
  {
   "cell_type": "code",
   "execution_count": null,
   "metadata": {
    "collapsed": true,
    "deletable": true,
    "editable": true
   },
   "outputs": [],
   "source": []
  }
 ],
 "metadata": {
  "kernelspec": {
   "display_name": "Python 3",
   "language": "python",
   "name": "python3"
  },
  "language_info": {
   "codemirror_mode": {
    "name": "ipython",
    "version": 3
   },
   "file_extension": ".py",
   "mimetype": "text/x-python",
   "name": "python",
   "nbconvert_exporter": "python",
   "pygments_lexer": "ipython3",
   "version": "3.5.2"
  }
 },
 "nbformat": 4,
 "nbformat_minor": 0
}
