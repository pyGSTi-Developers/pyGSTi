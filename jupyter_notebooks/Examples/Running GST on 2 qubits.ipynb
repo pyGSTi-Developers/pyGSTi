{
 "cells": [
  {
   "cell_type": "markdown",
   "metadata": {
    "deletable": true,
    "editable": true
   },
   "source": [
    "# An example of how to run GST on a 2-qubit system\n",
    "This example gives an overview of the typical steps used to perform an end-to-end (i.e. experimental-data-to-report) Gate Set Tomography analysis on a 2-qubit system.  The steps are very similar to the single-qubit case; the main differences are:\n",
    "- the use of more general syntax when constructing 2-qubit gate sets\n",
    "- the increased number of fiducial and germ gate sequences\n",
    "- the increased run time required to compute GST estimates\n",
    "- a different report style "
   ]
  },
  {
   "cell_type": "code",
   "execution_count": 1,
   "metadata": {
    "collapsed": true,
    "deletable": true,
    "editable": true
   },
   "outputs": [],
   "source": [
    "from __future__ import print_function\n",
    "import pygsti"
   ]
  },
  {
   "cell_type": "markdown",
   "metadata": {
    "deletable": true,
    "editable": true
   },
   "source": [
    "### Step 1: Construct the desired 2-qubit gateset\n",
    "There are several ways to do this, as outlined by the comments in the cell below."
   ]
  },
  {
   "cell_type": "code",
   "execution_count": 2,
   "metadata": {
    "collapsed": false,
    "deletable": true,
    "editable": true
   },
   "outputs": [],
   "source": [
    "# via build_gateset:\n",
    "#   [4] = a 4-dimensional Hilbert (state) space\n",
    "#   [('Q0','Q1')] = interpret this 4-d space as that of two qubits 'Q0', and 'Q1' (note these labels *must* begin with 'Q'!)\n",
    "#   \"Gix\" = gate label; can be anything that begins with 'G' and is followed by lowercase letters\n",
    "#   \"X(pi/2,Q1)\" = pi/2 single-qubit x-rotation gate on the qubit labeled Q1\n",
    "#   \"CX(pi,Q0,Q1)\" = controlled pi x-rotation using qubits Q0 (control) and Q1 (target) \n",
    "#   \"rho0\" = prep label; can be anything that begins with \"rho\"\n",
    "#   \"E1\" = effect label; can be anything that begins with \"E\"\n",
    "#   \"2\" = a prep or effect expression indicating a projection/preparation of the 3rd (b/c 0-based) computational basis element\n",
    "#   'dnup': ('rho0','E2') = designate the SPAM label \"dnup\" to mean preparation using \"rho0\" (a prep label) and measuring the outcome \"E2\" (an effect label)\n",
    "#   \"pp\" = create all of these gate & SPAM operators in the Pauli-product basis.\n",
    "gs_target = pygsti.construction.build_gateset( \n",
    "            [4], [('Q0','Q1')],['Gix','Giy','Gxi','Gyi','Gcnot'], \n",
    "            [ \"X(pi/2,Q1)\", \"Y(pi/2,Q1)\", \"X(pi/2,Q0)\", \"Y(pi/2,Q0)\", \"CNOT(Q0,Q1)\" ],\n",
    "            prepLabels=['rho0'], prepExpressions=[\"0\"],\n",
    "            effectLabels=['E0','E1','E2'], effectExpressions=[\"0\",\"1\",\"2\"], \n",
    "            spamdefs={'upup': ('rho0','E0'), 'updn': ('rho0','E1'),\n",
    "                      'dnup': ('rho0','E2'), 'dndn': ('rho0','remainder') }, basis=\"pp\")\n",
    "\n",
    "# Note that you can also explicity add identity operations, e.g. \"I(Q0)\" to get the same gate set,\n",
    "#  and that this same syntax could be used for non-entangling 2-qubit gates, e.g. \"X(pi/2,Q0):X(pi/2,Q1)\".\n",
    "gs_targetB = pygsti.construction.build_gateset( \n",
    "            [4], [('Q0','Q1')],['Gix','Giy','Gxi','Gyi','Gcnot'], \n",
    "            [ \"I(Q0):X(pi/2,Q1)\", \"I(Q0):Y(pi/2,Q1)\", \"X(pi/2,Q0):I(Q1)\", \"Y(pi/2,Q0):I(Q1)\", \"CNOT(Q0,Q1)\" ],\n",
    "            prepLabels=['rho0'], prepExpressions=[\"0\"], \n",
    "            effectLabels=['E0','E1','E2'], effectExpressions=[\"0\",\"1\",\"2\"], \n",
    "            spamdefs={'upup': ('rho0','E0'), 'updn': ('rho0','E1'),\n",
    "                      'dnup': ('rho0','E2'), 'dndn': ('rho0','remainder') }, basis=\"pp\")\n",
    "\n",
    "# If you're lucky and your gateset is one of pyGSTi's \"standard\" gate sets, you can just import it.\n",
    "from pygsti.construction import std2Q_XYCNOT\n",
    "gs_targetC = std2Q_XYCNOT.gs_target\n",
    "\n",
    "#check that these are all the same\n",
    "assert(abs(gs_target.frobeniusdist(gs_targetB)) < 1e-6)\n",
    "assert(abs(gs_target.frobeniusdist(gs_targetC)) < 1e-6)"
   ]
  },
  {
   "cell_type": "markdown",
   "metadata": {
    "deletable": true,
    "editable": true
   },
   "source": [
    "### Step 2: Obtain lists of fiducial and germ gate sequences\n",
    "These are the building blocks of the gate sequences performed in the experiment. Typically, these lists are either given to you by the folks at Sandia National Labs (email pygsti@sandia.gov), provided by pyGSTi because you're using a \"standard\" gate set, or computed using \"fiducial selection\" and \"germ selection\" algorithms (which are a part of pyGSTi, but not covered in this tutorial)."
   ]
  },
  {
   "cell_type": "code",
   "execution_count": 3,
   "metadata": {
    "collapsed": false,
    "deletable": true,
    "editable": true
   },
   "outputs": [],
   "source": [
    "#If you know the fiducial strings you can create a list manually.  Note\n",
    "# that in general there can be different \"preparation\" and \"measurement\"\n",
    "# (or \"effect\") fiducials.\n",
    "prep_fiducials = pygsti.construction.gatestring_list( \\\n",
    "[ (), ('Gix',), ('Giy',), ('Gix','Gix'), \n",
    "('Gxi',), ('Gxi','Gix'), ('Gxi','Giy'), ('Gxi','Gix','Gix'), \n",
    "('Gyi',), ('Gyi','Gix'), ('Gyi','Giy'), ('Gyi','Gix','Gix'), \n",
    "('Gxi','Gxi'), ('Gxi','Gxi','Gix'), ('Gxi','Gxi','Giy'), ('Gxi','Gxi','Gix','Gix') ] )\n",
    "\n",
    "effect_fiducials = pygsti.construction.gatestring_list( \\\n",
    "[(), ('Gix',), ('Giy',), \n",
    " ('Gix','Gix'), ('Gxi',),\n",
    " ('Gyi',), ('Gxi','Gxi'),\n",
    " ('Gxi','Gix'), ('Gxi','Giy'),\n",
    " ('Gyi','Gix'), ('Gyi','Giy')] )\n",
    "\n",
    "#Or, if you're lucky, you can just import them\n",
    "prep_fiducialsB = std2Q_XYCNOT.prepStrs\n",
    "effect_fiducialsB = std2Q_XYCNOT.effectStrs\n",
    "\n",
    "#check that these are the same\n",
    "assert(prep_fiducials == prep_fiducialsB)\n",
    "assert(effect_fiducials == effect_fiducialsB)\n",
    "\n",
    "#Use fiducial sequences to create a \"spam specifiers\" object, telling\n",
    "# GST which preparation and measurement fiducials to follow and precede which\n",
    "# state preparation and effect operators, respectively.\n",
    "specs = pygsti.construction.build_spam_specs(\n",
    "    prepStrs=prep_fiducials,\n",
    "    effectStrs=effect_fiducials,\n",
    "    prep_labels=gs_target.get_prep_labels(),\n",
    "    effect_labels=gs_target.get_effect_labels() )\n",
    "\n",
    "#Alternatively, if you're lucky, you can grab the specs directly:\n",
    "specsB = std2Q_XYCNOT.specs\n",
    "assert(specs[0] == specsB[0])"
   ]
  },
  {
   "cell_type": "code",
   "execution_count": 4,
   "metadata": {
    "collapsed": true,
    "deletable": true,
    "editable": true
   },
   "outputs": [],
   "source": [
    "#germ lists can be specified in the same way.  In this case, there are\n",
    "# 71 germs required to do honest GST.  Since this would crowd this tutorial\n",
    "# notebook, we create some smaller lists of germs manually and import the\n",
    "# full 71-germ list from std2Q_XYCNOT\n",
    "germs4 = pygsti.construction.gatestring_list(\n",
    "    [ ('Gix',), ('Giy',), ('Gxi',), ('Gyi',) ] )\n",
    "\n",
    "germs11 = pygsti.construction.gatestring_list(\n",
    "    [ ('Gix',), ('Giy',), ('Gxi',), ('Gyi',), ('Gcnot',), ('Gxi','Gyi'), ('Gix','Giy'),\n",
    "      ('Gix','Gcnot'), ('Gxi','Gcnot'), ('Giy','Gcnot'), ('Gyi','Gcnot') ] )\n",
    "\n",
    "germs71 = std2Q_XYCNOT.germs"
   ]
  },
  {
   "cell_type": "markdown",
   "metadata": {
    "deletable": true,
    "editable": true
   },
   "source": [
    "### Step 3: Data generation\n",
    "Now that fiducial and germ strings have been found, we can generate the list of experiments needed to run GST, just like in the 1-qubit case.  As an additional input we'll need a list of lengths indicating the maximum length strings to use on each successive GST iteration."
   ]
  },
  {
   "cell_type": "code",
   "execution_count": 6,
   "metadata": {
    "collapsed": false,
    "deletable": true,
    "editable": true
   },
   "outputs": [],
   "source": [
    "#A list of maximum lengths for each GST iteration\n",
    "maxLengths = [1,2,4]\n",
    "\n",
    "#Create a list of GST experiments for this gateset, with\n",
    "#the specified fiducials, germs, and maximum lengths.  We use\n",
    "#\"germs4\" here so that the tutorial runs quickly; really, you'd\n",
    "#want to use germs71!\n",
    "listOfExperiments = pygsti.construction.make_lsgst_experiment_list(gs_target.gates.keys(), prep_fiducials,\n",
    "                                                                   effect_fiducials, germs4, maxLengths)\n",
    "\n",
    "#Create an empty dataset file, which stores the list of experiments\n",
    "# and zerod-out columns where data should be inserted.  Note the use of the SPAM\n",
    "# labels in the \"Columns\" header line.\n",
    "pygsti.io.write_empty_dataset(\"example_files/My2QDataTemplate.txt\", listOfExperiments,\n",
    "                              \"## Columns = upup count, updn count, dnup count, dndn count\")"
   ]
  },
  {
   "cell_type": "code",
   "execution_count": 7,
   "metadata": {
    "collapsed": true,
    "deletable": true,
    "editable": true
   },
   "outputs": [],
   "source": [
    "#Generate some \"fake\" (simulated) data based on a depolarized version of the target gateset\n",
    "gs_datagen = gs_target.depolarize(gate_noise=0.1, spam_noise=0.001)\n",
    "ds = pygsti.construction.generate_fake_data(gs_datagen, listOfExperiments, nSamples=1000,\n",
    "                                            sampleError=\"multinomial\", seed=2016)\n",
    "\n",
    "#if you have a dataset file with real data in it, load it using something like:\n",
    "#ds = pygsti.io.load_dataset(\"mydir/My2QDataset.txt\")"
   ]
  },
  {
   "cell_type": "markdown",
   "metadata": {
    "deletable": true,
    "editable": true
   },
   "source": [
    "### Step 4: Run GST using `do_long_sequence_gst`\n",
    "Just like for 1-qubit GST, we call the driver routine `do_long_sequence_gst` to compute the GST estimates.  Usually for two qubits this could take a long time (hours) based on the number of gate sequences used.  However, since we chose an incomplete set of only 4 germs and set our maximum max-length to 4, this will run fairly quickly (~20min).\n",
    "\n",
    "Some notes about the options/arguments to `do_long_sequence_gst` that are particularly relevant to 2-qubit GST:\n",
    "- `mxBasis` indicates which basis the target gateset matrices are in -- this should be the same as that used to create the gateset.  Here `'pp'` denotes the Pauli-product basis.\n",
    "- `advancedOptions` expects a dictionary of with option names as the keys.  Relevant options are:\n",
    "  - `memoryLimitInBytes` gives an estimate of how much memory is available to use on your system (in bytes).  This is currently *not* a hard limit, and pyGSTi may require 50-100% more memory than this \"limit\".  So you'll need to be conservative in the value you place here: if your machine has 10GB of RAM, set this to 3 or 5 GB initially and increase it as you see how much memory is actually used using a separate OS performance monitor tool.\n",
    "  - `depolarizeLGST` gives an amount (in [0,1]) to depolarize the initial LGST estimate that is used as the initial guess for long-sequence GST.  In practice, we find that in the larger 2-qubit Hilbert space, the LGST estimate may be so poor as to adversely affect the subsequent long-sequence GST (e.g. very slow convergence).  Depolarizing the LGST estimate remedies this.  If you're unsure what to put here, either don't specify `depolarizeLGST` at all (the same as using 0.0), or just use 0.1.\n",
    "  - `verbosity` tells the routine how much detail to print to stdout.  If you don't mind waiting a while without getting any output, you can leave this at its default value (2).  If you can't standing wondering whether GST is still running or has locked up, set this to 3."
   ]
  },
  {
   "cell_type": "code",
   "execution_count": 8,
   "metadata": {
    "collapsed": false,
    "deletable": true,
    "editable": true,
    "scrolled": true
   },
   "outputs": [
    {
     "name": "stdout",
     "output_type": "stream",
     "text": [
      "--- Gate Sequence Creation ---\n",
      " 1735 sequences created\n",
      " Dataset has 1735 entries: 1735 utilized, 0 requested sequences were missing\n",
      "--- LGST ---\n",
      "  Singular values of I_tilde (truncating to first 16 of 16) = \n",
      "  6.75149146596\n",
      "  2.35377755367\n",
      "  2.32365146149\n",
      "  1.23864250811\n",
      "  1.20620357487\n",
      "  1.17611544699\n",
      "  0.858494195033\n",
      "  0.823388019021\n",
      "  0.533326110172\n",
      "  0.495849178834\n",
      "  0.365817787176\n",
      "  0.348107281545\n",
      "  0.329308371383\n",
      "  0.248273397547\n",
      "  0.229085444486\n",
      "  0.153531133798\n",
      "  \n",
      "  Singular values of target I_tilde (truncating to first 16 of 16) = \n",
      "  6.86802764151\n",
      "  3.20253744687\n",
      "  3.20253744687\n",
      "  1.76923693223\n",
      "  1.76923693223\n",
      "  1.73205080757\n",
      "  1.23400485863\n",
      "  1.22474487139\n",
      "  0.707106781187\n",
      "  0.707106781187\n",
      "  0.5\n",
      "  0.493714392513\n",
      "  0.493714392513\n",
      "  0.346122344917\n",
      "  0.346122344917\n",
      "  0.239642075572\n",
      "  \n",
      "    Resulting gate set:\n",
      "    \n",
      "    rho0 =    0.5000        0        0   0.5000        0        0        0        0        0        0        0        0   0.5000        0        0   0.5000\n",
      "    \n",
      "    \n",
      "    E0 =    0.5785  -0.0555   0.0665   0.4585  -0.0385   0.0435  -0.0265  -0.0425   0.0445   0.0065   0.0045   0.0545   0.4635  -0.0625   0.0735   0.4935\n",
      "    \n",
      "    E1 =    0.5030   0.0540  -0.0610  -0.4490  -0.0510   0.0060   0.0670   0.0450   0.0160   0.0030  -0.0420  -0.0100   0.3570   0.0480  -0.0690  -0.4090\n",
      "    \n",
      "    E2 =    0.4900  -0.0480   0.0120   0.3660   0.0580  -0.0340  -0.0040   0.0480  -0.0460  -0.0380  -0.0600  -0.0440  -0.4450   0.0610  -0.0170  -0.4090\n",
      "    \n",
      "    \n",
      "    Gix = \n",
      "       0.9996   0.0003  -0.0004   0.0004   0.0005  -0.0007   0.0005  -0.0005  -0.0004   0.0006  -0.0004   0.0004   0.0001  -0.0002   0.0001  -0.0001\n",
      "      -0.0065   0.9014  -0.0065   0.0065   0.0131   0.0400   0.0131  -0.0131  -0.0201  -0.0308  -0.0201   0.0201   0.0017  -0.0331   0.0017  -0.0017\n",
      "      -0.1066   0.1271  -0.1066  -0.8934  -0.0006  -0.0755  -0.0006   0.0006  -0.0321   0.0423  -0.0321   0.0321   0.0272  -0.0532   0.0272  -0.0272\n",
      "      -0.0900   0.0627   0.9100   0.0900  -0.0074   0.0123  -0.0074   0.0074   0.0115  -0.0516   0.0115  -0.0115  -0.0036  -0.0002  -0.0036   0.0036\n",
      "       0.0249  -0.0513   0.0249  -0.0249   0.8696   0.1023  -0.1304   0.1304   0.0208  -0.0333   0.0208  -0.0208  -0.0094   0.0313  -0.0094   0.0094\n",
      "      -0.0026  -0.0398  -0.0026   0.0026   0.0838   0.8743   0.0838  -0.0838   0.0147  -0.0394   0.0147  -0.0147  -0.0127   0.0216  -0.0127   0.0127\n",
      "       0.0235  -0.0086   0.0235  -0.0235  -0.0959   0.0122  -0.0959  -0.9041   0.0226  -0.1170   0.0226  -0.0226   0.0253  -0.0594   0.0253  -0.0253\n",
      "       0.0149   0.0239   0.0149  -0.0149  -0.0829   0.1252   0.9171   0.0829   0.0504  -0.0158   0.0504  -0.0504   0.0007  -0.0176   0.0007  -0.0007\n",
      "       0.0156  -0.0439   0.0156  -0.0156  -0.0119  -0.0019  -0.0119   0.0119   0.8911   0.0083  -0.1089   0.1089  -0.0324   0.0512  -0.0324   0.0324\n",
      "       0.0116  -0.0011   0.0116  -0.0116  -0.0091  -0.0431  -0.0091   0.0091   0.0413   0.7557   0.0413  -0.0413  -0.0251   0.1026  -0.0251   0.0251\n",
      "      -0.0334  -0.0075  -0.0334   0.0334  -0.0185   0.1121  -0.0185   0.0185  -0.1454   0.2500  -0.1454  -0.8546   0.0030   0.0070   0.0030  -0.0030\n",
      "       0.0241   0.0072   0.0241  -0.0241   0.0264  -0.0287   0.0264  -0.0264  -0.0754   0.1563   0.9246   0.0754   0.0260  -0.0570   0.0260  -0.0260\n",
      "      -0.0108  -0.0062  -0.0108   0.0108   0.0003  -0.0116   0.0003  -0.0003  -0.0011  -0.0017  -0.0011   0.0011   0.9076  -0.0028  -0.0924   0.0924\n",
      "       0.0042  -0.0136   0.0042  -0.0042   0.0153  -0.0290   0.0153  -0.0153  -0.0073   0.0505  -0.0073   0.0073  -0.0192   0.9170  -0.0192   0.0192\n",
      "       0.0433  -0.0719   0.0433  -0.0433  -0.0453   0.0590  -0.0453   0.0453   0.0473  -0.1694   0.0473  -0.0473  -0.1162   0.1264  -0.1162  -0.8838\n",
      "      -0.0078   0.0128  -0.0078   0.0078   0.0152  -0.0860   0.0152  -0.0152   0.0051  -0.0227   0.0051  -0.0051  -0.0795   0.0725   0.9205   0.0795\n",
      "    \n",
      "    \n",
      "    Giy = \n",
      "       0.9996  -0.0003  -0.0004   0.0004   0.0006        0   0.0010  -0.0006  -0.0004  -0.0006  -0.0009   0.0004   0.0002        0   0.0003  -0.0002\n",
      "       0.0873  -0.0495   0.1220   0.9127  -0.0120  -0.0161   0.0410   0.0120  -0.0037   0.0271   0.0282   0.0037   0.0138  -0.0498  -0.0015  -0.0138\n",
      "       0.0062   0.0028   0.8970  -0.0062  -0.0277   0.0833  -0.0468   0.0277   0.0009   0.0368  -0.0175  -0.0009  -0.0129  -0.0141   0.0134   0.0129\n",
      "      -0.0987  -0.9078  -0.0745   0.0987  -0.0133   0.0031   0.0123   0.0133  -0.0108  -0.0394   0.0535   0.0108   0.0091  -0.0097  -0.0002  -0.0091\n",
      "       0.0233  -0.0047   0.0740  -0.0233   0.8915   0.0823  -0.1154   0.1085  -0.0015   0.0169   0.0478   0.0015  -0.0146  -0.0120  -0.0278   0.0146\n",
      "       0.0110        0  -0.0084  -0.0110   0.1418  -0.0750   0.2521   0.8582   0.0122   0.1165  -0.0931  -0.0122  -0.0601   0.0163  -0.1710   0.0601\n",
      "       0.0131   0.0145   0.0495  -0.0131  -0.0134  -0.0114   0.7799   0.0134   0.0034   0.0221   0.1009  -0.0034   0.0105  -0.0391   0.0461  -0.0105\n",
      "       0.0026   0.0083  -0.0035  -0.0026  -0.1152  -0.9236  -0.0984   0.1152   0.0031  -0.0102  -0.0485  -0.0031   0.0124   0.0430   0.0453  -0.0124\n",
      "       0.0155   0.0222   0.0272  -0.0155  -0.0040  -0.0820  -0.0226   0.0040   0.8888   0.0418  -0.0419   0.1112  -0.0002  -0.0136   0.0134   0.0002\n",
      "      -0.0097  -0.0260   0.0400   0.0097  -0.0480   0.0969  -0.1567   0.0480   0.1518  -0.1867   0.1788   0.8482  -0.0326   0.0904   0.0039   0.0326\n",
      "       0.0113  -0.0751  -0.0259  -0.0113  -0.0439  -0.0106  -0.0489   0.0439  -0.0290  -0.0483   0.7581   0.0290  -0.0129   0.0325  -0.0424   0.0129\n",
      "      -0.0049  -0.0147   0.0703   0.0049   0.0485   0.0388   0.1106  -0.0485  -0.0797  -0.8371   0.0943   0.0797  -0.0119   0.0433  -0.0044   0.0119\n",
      "      -0.0140   0.0161  -0.0082   0.0140   0.0105   0.0152   0.0203  -0.0105   0.0039   0.0173  -0.0188  -0.0039   0.9009   0.0846   0.0004   0.0991\n",
      "      -0.0008  -0.0205   0.0297   0.0008   0.0589  -0.0209  -0.0513  -0.0589  -0.0068  -0.0674   0.0695   0.0068   0.0878  -0.0311   0.1202   0.9122\n",
      "       0.0290  -0.0233   0.0568  -0.0290  -0.0044   0.0366  -0.0165   0.0044  -0.0036  -0.0422   0.0503   0.0036   0.0144  -0.0410   0.9342  -0.0144\n",
      "      -0.0065   0.0190  -0.0273   0.0065   0.0289  -0.0844   0.0058  -0.0289  -0.0050  -0.0024  -0.0994   0.0050  -0.0713  -0.9018  -0.0540   0.0713\n",
      "    \n",
      "    \n",
      "    Gxi = \n",
      "       0.9996   0.0004  -0.0002   0.0001   0.0003  -0.0009   0.0003  -0.0001   0.0001        0   0.0003  -0.0004   0.0005  -0.0008   0.0007  -0.0003\n",
      "       0.0065   0.8983   0.0242  -0.0227   0.0246  -0.0031   0.0349   0.0143   0.0114  -0.0670   0.0674  -0.0276   0.0130   0.0931   0.0226   0.0032\n",
      "       0.0044  -0.0172   0.9194  -0.0147  -0.0120   0.0262  -0.0197   0.0003  -0.0058  -0.0088  -0.0443  -0.0044   0.0006  -0.0293   0.0988   0.0097\n",
      "      -0.0171   0.0078   0.0119   0.9142   0.0084  -0.0217   0.0076  -0.0189  -0.0060  -0.0282  -0.0376  -0.0969   0.0138  -0.0076  -0.0341   0.0891\n",
      "       0.0160  -0.0337   0.0524  -0.0172   0.8926   0.0347  -0.0826  -0.0101   0.0023  -0.0229  -0.0390  -0.0034  -0.0153  -0.0275  -0.0743   0.0165\n",
      "      -0.0021  -0.0304  -0.0185  -0.0074   0.1503   0.8100   0.1343  -0.0157  -0.0156  -0.0269  -0.1045   0.0061  -0.0111  -0.0572   0.0787   0.0206\n",
      "       0.0007   0.0679   0.0410  -0.0086   0.0006  -0.1321   0.7599   0.0562  -0.0048   0.0391   0.1668  -0.0031  -0.0239   0.0513   0.0109   0.0318\n",
      "      -0.0207   0.0647  -0.0641  -0.0007   0.0565  -0.0720   0.0877   0.9132  -0.0588   0.0446  -0.1262   0.0374   0.0137  -0.0362  -0.0029   0.0076\n",
      "      -0.0785  -0.0187   0.0123  -0.0151   0.0465   0.0550  -0.0075   0.0590  -0.1183   0.0247  -0.0188   0.0247  -0.8919  -0.0447   0.0223  -0.0145\n",
      "      -0.0118  -0.1001  -0.0051  -0.0378   0.0218   0.0734   0.0453   0.0316  -0.0148  -0.0839   0.0045  -0.0347  -0.0342  -0.7658  -0.0175   0.0837\n",
      "      -0.0287  -0.0019  -0.1159  -0.0484   0.0033   0.0713   0.0387   0.0454  -0.0484   0.0203  -0.1721  -0.0287   0.0220  -0.0222  -0.7761   0.0550\n",
      "      -0.0189   0.0581   0.0289  -0.1035   0.1025  -0.1702   0.0536   0.1186   0.0479   0.0115   0.0672  -0.1703   0.0132  -0.0425  -0.0344  -0.8908\n",
      "      -0.1110   0.0205  -0.0167   0.0138   0.0977  -0.0268  -0.0085  -0.0065   0.9082   0.0004   0.0034  -0.0054   0.0957  -0.0440   0.0148   0.0015\n",
      "       0.0106  -0.1186   0.0275   0.0413   0.0152   0.0884  -0.0459  -0.0565   0.0049   0.8885  -0.0235   0.0470  -0.0019   0.0243  -0.0187  -0.0501\n",
      "       0.0446  -0.0162  -0.0321   0.0434   0.0094  -0.0484   0.1829  -0.0196   0.0121  -0.0244   0.9447   0.0759  -0.0221   0.0382   0.0163  -0.0659\n",
      "       0.0003  -0.0055   0.0030  -0.0972  -0.0331  -0.0177  -0.0490   0.1263  -0.0096   0.0135   0.0123   0.9127   0.0063   0.0333   0.0706   0.0906\n",
      "    \n",
      "    \n",
      "    Gyi = \n",
      "       0.9994   0.0004  -0.0006   0.0001        0        0        0        0  -0.0005   0.0001  -0.0006   0.0004   0.0005  -0.0007   0.0007        0\n",
      "       0.0154   0.8892   0.0116  -0.0191  -0.0467   0.1014  -0.0827   0.0139   0.0441  -0.0597   0.0170  -0.0018   0.0020   0.1237   0.0576   0.0018\n",
      "       0.0110  -0.0175   0.8923  -0.0103  -0.0303   0.0773   0.0264   0.0246   0.0404  -0.0190   0.0342  -0.0049   0.0211   0.0061   0.0812  -0.0217\n",
      "      -0.0150   0.0223   0.0004   0.9155   0.0045  -0.0381   0.0252   0.0670   0.0082   0.0107   0.0389   0.0140  -0.0034   0.0261  -0.0314   0.1028\n",
      "       0.1082  -0.0406   0.0305  -0.0051  -0.0781   0.0006   0.0131  -0.0184   0.1172  -0.0105   0.0602  -0.0478   0.9094   0.0231  -0.0788  -0.0125\n",
      "       0.0140   0.0577   0.0170  -0.0283  -0.0087  -0.1456   0.0181  -0.0607   0.0723   0.1236  -0.0380  -0.1294   0.0829   0.8280   0.0613  -0.0686\n",
      "       0.0258  -0.0113   0.1125   0.0381  -0.0500   0.0415  -0.2552   0.0104   0.0530  -0.0844   0.1112  -0.0037  -0.0323  -0.0352   0.8028  -0.0317\n",
      "       0.0027   0.0473   0.0131   0.0850  -0.0092  -0.0334   0.0067  -0.0935  -0.0475   0.0814  -0.0057   0.0919  -0.0120   0.0407   0.0481   0.9244\n",
      "       0.0316   0.0006   0.0079  -0.0239   0.0067  -0.0381   0.0043  -0.0010   0.8652   0.0841  -0.0095  -0.0206  -0.0172  -0.0285  -0.0380   0.0096\n",
      "       0.0436  -0.0336   0.0457  -0.0332  -0.0645   0.0554  -0.0402  -0.0503   0.0132   0.9160   0.0227  -0.0753  -0.0235   0.0236  -0.0638   0.0131\n",
      "      -0.0107  -0.0342   0.0088  -0.0091  -0.0234   0.0111  -0.0596  -0.0282  -0.0682   0.0266   0.7654  -0.0784   0.0090   0.0703  -0.0042   0.0108\n",
      "      -0.0159   0.0160  -0.0332   0.0293   0.0032   0.0998  -0.0126  -0.0385  -0.0235   0.0412   0.0043   0.8578   0.0009   0.0084   0.0279  -0.0143\n",
      "      -0.0931  -0.0056   0.0246   0.0044  -0.8925  -0.0257  -0.0314  -0.0041  -0.0696   0.0289   0.0417   0.0122   0.0620   0.0227  -0.0329   0.0266\n",
      "      -0.0006  -0.1607   0.0123  -0.0036   0.0332  -0.8235   0.0790   0.0309   0.0387  -0.0926  -0.0607  -0.0314   0.0062   0.0966  -0.0920  -0.0020\n",
      "       0.0262  -0.0035  -0.0632   0.0445   0.0631  -0.1147  -0.8359  -0.0383   0.0201   0.0055  -0.0286   0.0337  -0.0294   0.0799   0.1339  -0.0414\n",
      "      -0.0145   0.0082  -0.0143  -0.1082   0.0108   0.0297  -0.0005  -0.8644  -0.0213  -0.0197  -0.0626  -0.0600   0.0203  -0.0674   0.0497   0.1023\n",
      "    \n",
      "    \n",
      "    Gcnot = \n",
      "       0.9997   0.0004   0.0003        0  -0.0010   0.0005        0   0.0004   0.0008  -0.0004   0.0001   0.0008   0.0002  -0.0001  -0.0005   0.0002\n",
      "      -0.0014   0.9426  -0.0311   0.0271   0.0223  -0.0063   0.0157  -0.0047  -0.0162   0.0495  -0.0628   0.0330  -0.0084   0.0061   0.0107   0.0042\n",
      "       0.0419  -0.0358   0.0705   0.0300  -0.0486   0.0169  -0.1561  -0.0181   0.0545  -0.0512   0.1848   0.0358   0.0052  -0.0171   0.9088   0.0253\n",
      "      -0.1106   0.1140  -0.0002  -0.0153  -0.0053  -0.0217  -0.0601  -0.1042   0.0436  -0.0288   0.0082   0.0680   0.0848  -0.0747  -0.0146   0.8950\n",
      "      -0.0022  -0.0363  -0.0694   0.0082   0.0549   0.8825   0.0237  -0.0609  -0.0409   0.0444   0.0593  -0.0674  -0.0438   0.0863   0.0219   0.0075\n",
      "      -0.0185  -0.0216  -0.0536  -0.0235   0.8873   0.0699  -0.1020   0.1309  -0.0398   0.1113  -0.0881   0.0388  -0.0446   0.0663   0.0567  -0.0663\n",
      "       0.0178  -0.0281   0.1191   0.0229  -0.1148   0.1266  -0.1746  -0.0648   0.0602  -0.0517   0.1273   0.8416   0.0263  -0.0278   0.0765  -0.0012\n",
      "       0.0038  -0.0193   0.0284   0.0166   0.1462  -0.0950   0.0495  -0.0423  -0.0081  -0.0262  -1.0621  -0.0704   0.0130  -0.1097  -0.0079  -0.0620\n",
      "       0.0226  -0.0476   0.0155  -0.0059   0.0503  -0.0361  -0.0829   0.0228   0.0257   0.8537  -0.0234  -0.0350  -0.0263   0.0512   0.0141  -0.0189\n",
      "      -0.0186  -0.0545   0.0274   0.0198   0.0780   0.0421  -0.1084  -0.0986   0.7861  -0.0244  -0.0322   0.0994   0.0090   0.0669   0.0416  -0.0643\n",
      "      -0.0413  -0.0013  -0.0025   0.0301   0.0012   0.1008  -0.1590  -0.8014   0.0228  -0.0256  -0.0736   0.0088  -0.0389   0.0628  -0.1352  -0.0253\n",
      "      -0.0069  -0.0011  -0.0508  -0.0116  -0.0851   0.1502   0.8914   0.0025   0.1297  -0.1516  -0.0411   0.0819   0.0161  -0.0580  -0.0709   0.0071\n",
      "      -0.0156   0.0025   0.0002  -0.0865  -0.0904   0.0631   0.0484  -0.0156   0.1040  -0.0445  -0.0641  -0.0061   0.9021   0.0110  -0.0072   0.0860\n",
      "      -0.0173   0.0244  -0.0597  -0.0036   0.0626  -0.0950   0.0741   0.0315  -0.0524   0.1438   0.0362   0.0438   0.0348   0.8701   0.0176   0.0006\n",
      "       0.0354  -0.0643   0.8727   0.0529   0.0564   0.0638  -0.0227   0.0086  -0.0637   0.0564  -0.0421   0.1311   0.0206  -0.0124   0.0755   0.0729\n",
      "       0.0930  -0.0925   0.0309   0.8982  -0.0400  -0.0157  -0.0703   0.0404  -0.0909   0.0112  -0.0911  -0.0127  -0.0776   0.0653   0.0195  -0.0330\n",
      "    \n",
      "    \n",
      "    \n",
      "--- Iterative MLGST: Iter 1 of 3  731 gate strings ---: \n",
      "  --- Minimum Chi^2 GST ---\n",
      "  Memory limit = 3.00GB\n",
      "  Cur, Persist, Gather = 0.12, 0.03, 0.30 GB\n",
      "  Evaltree generation (deriv) w/mem limit = 2.56GB\n",
      "   mem(1 subtrees, 1,1 param-grps, 1 proc-grps) in 0s = 1.88GB (1.88GB fc)\n",
      "  Created evaluation tree with 1 subtrees.  Will divide 1 procs into 1 (subtree-processing)\n",
      "   groups of ~1 procs each, to distribute over 1344 params (taken as 1 param groups of ~1344 params).\n",
      "   Memory estimate = 1.88GB (cache=731, wrtLen1=1344, wrtLen2=1344, subsPerProc=1).\n",
      "--- Outer Iter 0: norm_f = 31497.1, mu=0\n",
      "--- Outer Iter 1: norm_f = 15364.9, mu=3433.12\n",
      "--- Outer Iter 2: norm_f = 2480.07, mu=1310.34\n",
      "--- Outer Iter 3: norm_f = 1352.53, mu=436.78\n",
      "--- Outer Iter 4: norm_f = 1173.16, mu=145.593\n",
      "--- Outer Iter 5: norm_f = 1132.68, mu=48.5312\n",
      "--- Outer Iter 6: norm_f = 1121.53, mu=16.1771\n",
      "--- Outer Iter 7: norm_f = 1118.67, mu=5.39235\n",
      "--- Outer Iter 8: norm_f = 1118.14, mu=1.79745\n",
      "--- Outer Iter 9: norm_f = 1118.09, mu=0.59915\n",
      "--- Outer Iter 10: norm_f = 1118.08, mu=0.199717\n",
      "    Least squares message = Both actual and predicted relative reductions in the sum of squares are at most 1e-06\n",
      "  Finding num_nongauge_params is too expensive: using total params.\n",
      "  Sum of Chi^2 = 1118.08 (2193 data params - 1344 model params = expected mean of 849; p-value = 1.25477e-09)\n",
      "  Completed in 194.5s\n",
      "  2*Delta(log(L)) = 1121.95\n",
      "  Iteration 1 took 194.6s\n",
      "  \n",
      "--- Iterative MLGST: Iter 2 of 3  1141 gate strings ---: \n",
      "  --- Minimum Chi^2 GST ---\n",
      "  Memory limit = 3.00GB\n",
      "  Cur, Persist, Gather = 0.28, 0.05, 0.30 GB\n",
      "  Evaltree generation (deriv) w/mem limit = 2.38GB\n",
      "   mem(1 subtrees, 1,1 param-grps, 1 proc-grps) in 0s = 2.93GB (2.93GB fc)\n",
      "  Created evaluation tree with 1 subtrees.  Will divide 1 procs into 1 (subtree-processing)\n",
      "   groups of ~1 procs each, to distribute over 1344 params (taken as 2 param groups of ~672 params).\n",
      "   Memory estimate = 1.47GB (cache=1141, wrtLen1=672, wrtLen2=1344, subsPerProc=1).\n",
      "--- Outer Iter 0: norm_f = 3904.46, mu=0\n",
      "--- Outer Iter 1: norm_f = 2848.45, mu=2393.11\n",
      "--- Outer Iter 2: norm_f = 2557.54, mu=797.703\n",
      "--- Outer Iter 3: norm_f = 2437.35, mu=265.901\n",
      "--- Outer Iter 4: norm_f = 2395.16, mu=88.6337\n",
      "--- Outer Iter 5: norm_f = 2387.49, mu=29.5446\n",
      "--- Outer Iter 6: norm_f = 2386.92, mu=9.84819\n",
      "--- Outer Iter 7: norm_f = 2386.89, mu=3.28273\n",
      "    Least squares message = Both actual and predicted relative reductions in the sum of squares are at most 1e-06\n",
      "  Finding num_nongauge_params is too expensive: using total params.\n",
      "  Sum of Chi^2 = 2386.89 (3423 data params - 1344 model params = expected mean of 2079; p-value = 2.46446e-06)\n",
      "  Completed in 211.7s\n",
      "  2*Delta(log(L)) = 2394.18\n",
      "  Iteration 2 took 211.8s\n",
      "  \n",
      "--- Iterative MLGST: Iter 3 of 3  1735 gate strings ---: \n",
      "  --- Minimum Chi^2 GST ---\n",
      "  Memory limit = 3.00GB\n",
      "  Cur, Persist, Gather = 0.19, 0.07, 0.29 GB\n",
      "  Evaltree generation (deriv) w/mem limit = 2.45GB\n",
      "   mem(1 subtrees, 1,1 param-grps, 1 proc-grps) in 0s = 4.45GB (4.45GB fc)\n",
      "  Created evaluation tree with 1 subtrees.  Will divide 1 procs into 1 (subtree-processing)\n",
      "   groups of ~1 procs each, to distribute over 1344 params (taken as 2 param groups of ~672 params).\n",
      "   Memory estimate = 2.23GB (cache=1735, wrtLen1=672, wrtLen2=1344, subsPerProc=1).\n",
      "--- Outer Iter 0: norm_f = 4938.97, mu=0\n",
      "--- Outer Iter 1: norm_f = 4304.76, mu=4092.69\n",
      "--- Outer Iter 2: norm_f = 4174.02, mu=1364.23\n",
      "--- Outer Iter 3: norm_f = 4130.37, mu=454.743\n",
      "--- Outer Iter 4: norm_f = 4119, mu=151.581\n",
      "--- Outer Iter 5: norm_f = 4117.1, mu=50.527\n",
      "--- Outer Iter 6: norm_f = 4116.92, mu=16.8423\n",
      "--- Outer Iter 7: norm_f = 4116.91, mu=5.61411\n",
      "    Least squares message = Both actual and predicted relative reductions in the sum of squares are at most 1e-06\n",
      "  Finding num_nongauge_params is too expensive: using total params.\n",
      "  Sum of Chi^2 = 4116.91 (5205 data params - 1344 model params = expected mean of 3861; p-value = 0.00213316)\n",
      "  Completed in 316.8s\n",
      "  2*Delta(log(L)) = 4131.19\n",
      "  Iteration 3 took 317.0s\n",
      "  \n",
      "  Switching to ML objective (last iteration)\n",
      "  --- MLGST ---\n",
      "  Memory: limit = 3.00GB(cur, persist, gthr = 0.21, 0.07, 0.29 GB)\n",
      "  Evaltree generation (deriv) w/mem limit = 2.42GB\n",
      "   mem(1 subtrees, 1,1 param-grps, 1 proc-grps) in 0s = 4.45GB (4.45GB fc)\n",
      "  Created evaluation tree with 1 subtrees.  Will divide 1 procs into 1 (subtree-processing)\n",
      "   groups of ~1 procs each, to distribute over 1344 params (taken as 2 param groups of ~672 params).\n",
      "   Memory estimate = 2.23GB (cache=1735, wrtLen1=672, wrtLen2=1344, subsPerProc=1).\n",
      "--- Outer Iter 0: norm_f = 2065.6, mu=0\n",
      "--- Outer Iter 1: norm_f = 2063.3, mu=2035.64\n",
      "--- Outer Iter 2: norm_f = 2063.21, mu=678.545\n",
      "--- Outer Iter 3: norm_f = 2063.17, mu=226.182\n",
      "--- Outer Iter 4: norm_f = 2063.15, mu=75.3939\n",
      "--- Outer Iter 5: norm_f = 2063.15, mu=25.1313\n",
      "    Least squares message = Both actual and predicted relative reductions in the sum of squares are at most 1e-06\n",
      "  Finding num_nongauge_params is too expensive: using total params.\n",
      "    Maximum log(L) = 2063.15 below upper bound of -3.93476e+06\n",
      "      2*Delta(log(L)) = 4126.3 (5205 data params - 1344 model params = expected mean of 3861; p-value = 0.00153788)\n",
      "    Completed in 244.2s\n",
      "  2*Delta(log(L)) = 4126.3\n",
      "  Final MLGST took 244.2s\n",
      "  \n",
      "Iterative MLGST Total Time: 967.5s\n",
      "Total time=0.269780 hours\n"
     ]
    }
   ],
   "source": [
    "import time\n",
    "start = time.time()\n",
    "results = pygsti.do_long_sequence_gst(ds, gs_target, prep_fiducials, effect_fiducials, germs4,\n",
    "                                    maxLengths, gaugeOptParams={'itemWeights': {'spam':0.1,'gates': 1.0}},\n",
    "                                    advancedOptions={ 'depolarizeStart' : 0.1 }, memLimit=3*(1024)**3,\n",
    "                                    verbosity=3 )\n",
    "end = time.time()\n",
    "print(\"Total time=%f hours\" % ((end - start) / 3600.0))\n",
    "\n",
    "#If you wanted to, you could pickle the results for later analysis:\n",
    "#import pickle\n",
    "#pickle.dump(results, open(\"MySavedResults.pkl\", \"wb\"))\n"
   ]
  },
  {
   "cell_type": "code",
   "execution_count": null,
   "metadata": {
    "collapsed": false,
    "deletable": true,
    "editable": true
   },
   "outputs": [],
   "source": []
  },
  {
   "cell_type": "markdown",
   "metadata": {
    "deletable": true,
    "editable": true
   },
   "source": [
    "### Step 5: Create report(s) using the returned `Results` object\n",
    "The `Results` object returned from `do_long_sequence_gst` is able to generate several different types of reports.  Most of these are designed to display single-qubit results (for historical reasons).  The \"general\"-type report was designed with 2-qubit data presentation in mind, so creating reports with `create_general_report` will be the most useful."
   ]
  },
  {
   "cell_type": "code",
   "execution_count": 9,
   "metadata": {
    "collapsed": false,
    "deletable": true,
    "editable": true
   },
   "outputs": [
    {
     "name": "stdout",
     "output_type": "stream",
     "text": [
      "*** Generating tables ***\n",
      "*** Generating plots ***\n",
      "*** Merging into template file ***\n",
      "Output written to example_files/easy_2q_general.html\n"
     ]
    }
   ],
   "source": [
    "pygsti.report.create_general_report(results, filename=\"example_files/easy_2q_general.html\",verbosity=2)"
   ]
  },
  {
   "cell_type": "markdown",
   "metadata": {
    "deletable": true,
    "editable": true
   },
   "source": [
    "Now open [example_files/easy_2q_general.html](example_files/easy_2q_general.html) to see the results.  You've run 2-qubit GST!"
   ]
  },
  {
   "cell_type": "code",
   "execution_count": 10,
   "metadata": {
    "collapsed": true,
    "deletable": true,
    "editable": true
   },
   "outputs": [],
   "source": [
    "import pickle\n",
    "with open(\"example_files/easy_2q_results.pkl\",\"wb\") as pklfile:\n",
    "        pickle.dump(results, pklfile)"
   ]
  },
  {
   "cell_type": "code",
   "execution_count": null,
   "metadata": {
    "collapsed": true,
    "deletable": true,
    "editable": true
   },
   "outputs": [],
   "source": []
  }
 ],
 "metadata": {
  "kernelspec": {
   "display_name": "Python 3",
   "language": "python",
   "name": "python3"
  },
  "language_info": {
   "codemirror_mode": {
    "name": "ipython",
    "version": 3
   },
   "file_extension": ".py",
   "mimetype": "text/x-python",
   "name": "python",
   "nbconvert_exporter": "python",
   "pygments_lexer": "ipython3",
   "version": "3.5.2"
  }
 },
 "nbformat": 4,
 "nbformat_minor": 0
}
