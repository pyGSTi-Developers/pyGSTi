{
 "cells": [
  {
   "cell_type": "markdown",
   "id": "425105db-e717-43f2-b6b4-2eac79b35dc2",
   "metadata": {},
   "source": [
    "## Notebook for testing re-implementation of hamiltonian jacobian calculation"
   ]
  },
  {
   "cell_type": "code",
   "execution_count": 1,
   "id": "b5f490e7-f101-4cec-8539-bd3c4254caf8",
   "metadata": {},
   "outputs": [],
   "source": [
    "import pygsti\n",
    "from pygsti.extras.idletomography.idtcore import hamiltonian_jac_alt, build_class_jacobian\n",
    "from pygsti.extras.idletomography.pauliobjs import NQPauliState\n",
    "import numpy as np"
   ]
  },
  {
   "cell_type": "markdown",
   "id": "c0add077-39fa-42e7-851f-5dc5587fc796",
   "metadata": {},
   "source": [
    "simplest test, one-qubit hamiltonian jacobian"
   ]
  },
  {
   "cell_type": "code",
   "execution_count": 2,
   "id": "7e657e93-e820-4f94-98a8-675e04b61c35",
   "metadata": {
    "tags": []
   },
   "outputs": [],
   "source": [
    "ham_jac , pairs=  hamiltonian_jac_alt(1)"
   ]
  },
  {
   "cell_type": "markdown",
   "id": "9feb75b5-267b-4d05-85e1-548f258db5cb",
   "metadata": {},
   "source": [
    "Compare against existing code as baseline. I think in the existing code the function `build_class_jacobian` constructs the jacobian for all of the prep-measure pairs, and then this gets used to downselect to a subset of pairs, this should be what we want to compare against here."
   ]
  },
  {
   "cell_type": "code",
   "execution_count": 3,
   "id": "bf3e689f-5901-4e90-8488-1079d4cdd697",
   "metadata": {},
   "outputs": [],
   "source": [
    "diff_pairs = [pair for pair in pairs if pair[0][-1] != pair[1][-1]]"
   ]
  },
  {
   "cell_type": "code",
   "execution_count": 4,
   "id": "00b3c3b7-dfc5-4891-9aaa-622f673fe976",
   "metadata": {},
   "outputs": [
    {
     "name": "stdout",
     "output_type": "stream",
     "text": [
      "4\n",
      "{('+X', '+Z'): [0, -2.0, 0], ('-X', '+Z'): [0, 2.0, 0], ('+X', '+Y'): [0, 0, 2.0], ('-X', '+Y'): [0, 0, -2.0], ('+Y', '+Z'): [2.0, 0, 0], ('-Y', '+Z'): [-2.0, 0, 0], ('+Y', '+X'): [0, 0, -2.0], ('-Y', '+X'): [0, 0, 2.0], ('+Z', '+Y'): [-2.0, 0, 0], ('-Z', '+Y'): [2.0, 0, 0], ('+Z', '+X'): [0, 2.0, 0], ('-Z', '+X'): [0, -2.0, 0]}\n"
     ]
    }
   ],
   "source": [
    "ham_jac_orig = build_class_jacobian('H', 1)\n",
    "#refactor this to match output of new code\n",
    "ham_jac_orig_refactored_dict = {}\n",
    "for (key, val) in ham_jac_orig.items():\n",
    "    if key[1] =='X':\n",
    "        ham_jac_orig_refactored_dict[key[0]] = [val, 0, 0]\n",
    "    if key[1] =='Y':\n",
    "        ham_jac_orig_refactored_dict[key[0]] = [0, val, 0]\n",
    "    if key[1] =='Z':\n",
    "        ham_jac_orig_refactored_dict[key[0]] = [0, 0, val]\n",
    "\n",
    "ham_jac_orig_refactored = np.array( for pair in diff_pairs])\n",
    "print(ham_jac_orig_refactored_dict)"
   ]
  },
  {
   "cell_type": "code",
   "execution_count": 5,
   "id": "7c37e01e-5377-402a-b683-36ec85db0d47",
   "metadata": {},
   "outputs": [
    {
     "name": "stdout",
     "output_type": "stream",
     "text": [
      "('+X', '+Y')  [0. 0. 2.]  [0. 0. 2.]\n",
      "('+X', '+Z')  [ 0. -2.  0.]  [ 0. -2.  0.]\n",
      "('-X', '+Y')  [ 0.  0. -2.]  [ 0.  0. -2.]\n",
      "('-X', '+Z')  [0. 2. 0.]  [0. 2. 0.]\n",
      "('+Y', '+X')  [ 0.  0. -2.]  [ 0.  0. -2.]\n",
      "('+Y', '+Z')  [2. 0. 0.]  [2. 0. 0.]\n",
      "('-Y', '+X')  [0. 0. 2.]  [0. 0. 2.]\n",
      "('-Y', '+Z')  [-2.  0.  0.]  [-2.  0.  0.]\n",
      "('+Z', '+X')  [0. 2. 0.]  [0. 2. 0.]\n",
      "('+Z', '+Y')  [-2.  0.  0.]  [-2.  0.  0.]\n",
      "('-Z', '+X')  [ 0. -2.  0.]  [ 0. -2.  0.]\n",
      "('-Z', '+Y')  [2. 0. 0.]  [2. 0. 0.]\n"
     ]
    }
   ],
   "source": [
    "j=0\n",
    "for i in range(len(pairs)):\n",
    "    #only print the ones where the prep and meas are different.\n",
    "    if pairs[i][0][-1] == pairs[i][1][-1]:\n",
    "        continue\n",
    "    print(f'{pairs[i]}  {ham_jac[i,:]}  {ham_jac_orig_refactored[j, :]}')\n",
    "    j+=1"
   ]
  },
  {
   "cell_type": "markdown",
   "id": "e29126f4-7129-4ad3-a0db-8a57dbf36f13",
   "metadata": {},
   "source": [
    "Spot checking these the corresponding pairs do look to match up as expected."
   ]
  },
  {
   "cell_type": "code",
   "execution_count": 6,
   "id": "fed3e9e9-f3ac-4cf8-9fe4-9f0394a24632",
   "metadata": {},
   "outputs": [
    {
     "data": {
      "text/plain": [
       "<function str.strip(chars=None, /)>"
      ]
     },
     "execution_count": 6,
     "metadata": {},
     "output_type": "execute_result"
    }
   ],
   "source": [
    "str(NQPauliState(\"X\", (1,))).strip"
   ]
  },
  {
   "cell_type": "code",
   "execution_count": 7,
   "id": "058006bc-66fb-49b8-9c36-63a06c401f44",
   "metadata": {},
   "outputs": [
    {
     "data": {
      "text/plain": [
       "'XXY'"
      ]
     },
     "execution_count": 7,
     "metadata": {},
     "output_type": "execute_result"
    }
   ],
   "source": [
    "\"+X+X-Y\".replace('+', '').replace('-','')"
   ]
  },
  {
   "cell_type": "code",
   "execution_count": 8,
   "id": "316be003-2c6c-4f2d-b487-be1f6e53a127",
   "metadata": {},
   "outputs": [],
   "source": [
    "prep = NQPauliState(\"XY\", (1,-1))\n",
    "meas = NQPauliState(\"XZ\", (-1,-1))\n",
    "\n",
    "stripped_prep = str(prep).replace('+', '').replace('-', '')\n",
    "stripped_meas = str(meas).replace('+', '').replace('-', '')\n",
    "\n",
    "#calculate the overall parity\n",
    "overall_sign_prep = np.prod(prep.signs)\n",
    "overall_sign_meas = np.prod(meas.signs)\n",
    "\n",
    "overall_signed_pauli_prep = '+' + stripped_prep if overall_sign_prep>0 else '-' + stripped_prep\n",
    "overall_signed_pauli_meas = '+' + stripped_meas if overall_sign_meas>0 else '-' + stripped_meas"
   ]
  },
  {
   "cell_type": "code",
   "execution_count": 9,
   "id": "98268938-29f8-4ba0-bf37-bbcf05e9100c",
   "metadata": {},
   "outputs": [
    {
     "data": {
      "text/plain": [
       "'-XY'"
      ]
     },
     "execution_count": 9,
     "metadata": {},
     "output_type": "execute_result"
    }
   ],
   "source": [
    "overall_signed_pauli_prep"
   ]
  },
  {
   "cell_type": "code",
   "execution_count": 10,
   "id": "9b495381-3a75-4b39-a24e-8410178abafc",
   "metadata": {},
   "outputs": [
    {
     "data": {
      "text/plain": [
       "'+XZ'"
      ]
     },
     "execution_count": 10,
     "metadata": {},
     "output_type": "execute_result"
    }
   ],
   "source": [
    "overall_signed_pauli_meas"
   ]
  },
  {
   "cell_type": "markdown",
   "id": "fb98562e-c1fd-488c-a9f2-4f482ebd7af7",
   "metadata": {},
   "source": [
    "Try the new hamiltonian code now with a set of prep and measure pairs specified."
   ]
  },
  {
   "cell_type": "code",
   "execution_count": 11,
   "id": "737dfa6a-2385-4f90-accc-72efda7546e3",
   "metadata": {},
   "outputs": [],
   "source": [
    "fid_pairs = [\n",
    "    (NQPauliState(\"X\", (1,)), NQPauliState(\"X\", (1,))),\n",
    "    (NQPauliState(\"X\", (1,)), NQPauliState(\"Y\", (1,))),\n",
    "    (NQPauliState(\"X\", (1,)), NQPauliState(\"Z\", (1,))),\n",
    "    (NQPauliState(\"Y\", (1,)), NQPauliState(\"X\", (1,))),\n",
    "    (NQPauliState(\"Y\", (1,)), NQPauliState(\"Y\", (1,))),\n",
    "    (NQPauliState(\"Y\", (1,)), NQPauliState(\"Z\", (1,))),\n",
    "    (NQPauliState(\"Z\", (1,)), NQPauliState(\"X\", (1,))),\n",
    "    (NQPauliState(\"Z\", (1,)), NQPauliState(\"Y\", (1,))),\n",
    "    (NQPauliState(\"Z\", (1,)), NQPauliState(\"Z\", (1,))),\n",
    "    (NQPauliState(\"X\", (-1,)), NQPauliState(\"X\", (1,))),\n",
    "    (NQPauliState(\"X\", (-1,)), NQPauliState(\"Y\", (1,))),\n",
    "    (NQPauliState(\"X\", (-1,)), NQPauliState(\"Z\", (1,))),\n",
    "    (NQPauliState(\"Y\", (-1,)), NQPauliState(\"X\", (1,))),\n",
    "    (NQPauliState(\"Y\", (-1,)), NQPauliState(\"Y\", (1,))),\n",
    "    (NQPauliState(\"Y\", (-1,)), NQPauliState(\"Z\", (1,))),\n",
    "    (NQPauliState(\"Z\", (-1,)), NQPauliState(\"X\", (1,))),\n",
    "    (NQPauliState(\"Z\", (-1,)), NQPauliState(\"Y\", (1,))),\n",
    "    (NQPauliState(\"Z\", (-1,)), NQPauliState(\"Z\", (1,))),\n",
    "]"
   ]
  },
  {
   "cell_type": "code",
   "execution_count": 12,
   "id": "96aae747-31d8-476a-9172-a310d41be16f",
   "metadata": {},
   "outputs": [],
   "source": [
    "ham_jac_specific_fid_pairs, pairs = hamiltonian_jac_alt(1, prep_meas_fid_pairs=fid_pairs)"
   ]
  },
  {
   "cell_type": "code",
   "execution_count": 13,
   "id": "753684b4-671d-49c0-9248-c33799af19e4",
   "metadata": {},
   "outputs": [
    {
     "name": "stdout",
     "output_type": "stream",
     "text": [
      "[('+X', '+X'), ('+X', '+Y'), ('+X', '+Z'), ('+Y', '+X'), ('+Y', '+Y'), ('+Y', '+Z'), ('+Z', '+X'), ('+Z', '+Y'), ('+Z', '+Z'), ('-X', '+X'), ('-X', '+Y'), ('-X', '+Z'), ('-Y', '+X'), ('-Y', '+Y'), ('-Y', '+Z'), ('-Z', '+X'), ('-Z', '+Y'), ('-Z', '+Z')]\n"
     ]
    }
   ],
   "source": [
    "print(pairs)"
   ]
  },
  {
   "cell_type": "code",
   "execution_count": 19,
   "id": "915c8655-2290-4507-b660-251dfe85b3ac",
   "metadata": {},
   "outputs": [
    {
     "name": "stdout",
     "output_type": "stream",
     "text": [
      "('+X', '+Y')  [0. 0. 2.]  [0, 0, 2.0]\n",
      "('+X', '+Z')  [ 0. -2.  0.]  [0, -2.0, 0]\n",
      "('+Y', '+X')  [ 0.  0. -2.]  [0, 0, -2.0]\n",
      "('+Y', '+Z')  [2. 0. 0.]  [2.0, 0, 0]\n",
      "('+Z', '+X')  [0. 2. 0.]  [0, 2.0, 0]\n",
      "('+Z', '+Y')  [-2.  0.  0.]  [-2.0, 0, 0]\n",
      "('-X', '+Y')  [ 0.  0. -2.]  [0, 0, -2.0]\n",
      "('-X', '+Z')  [0. 2. 0.]  [0, 2.0, 0]\n",
      "('-Y', '+X')  [0. 0. 2.]  [0, 0, 2.0]\n",
      "('-Y', '+Z')  [-2.  0.  0.]  [-2.0, 0, 0]\n",
      "('-Z', '+X')  [ 0. -2.  0.]  [0, -2.0, 0]\n",
      "('-Z', '+Y')  [2. 0. 0.]  [2.0, 0, 0]\n"
     ]
    }
   ],
   "source": [
    "j=0\n",
    "for i, pair in enumerate(pairs):\n",
    "    #only print the ones where the prep and meas are different.\n",
    "    if pair[0][-1] == pair[1][-1]:\n",
    "        continue\n",
    "    print(f'{pairs[i]}  {ham_jac_specific_fid_pairs[i,:]}  {ham_jac_orig_refactored_dict[pair]}')\n",
    "    j+=1"
   ]
  },
  {
   "cell_type": "markdown",
   "id": "67e3c0e6-debb-4f06-bec2-7d83346151f9",
   "metadata": {},
   "source": [
    "Ok, so this seems to be working as well."
   ]
  },
  {
   "cell_type": "code",
   "execution_count": null,
   "id": "942d8b66-39bb-449d-a5db-4786b94117e8",
   "metadata": {},
   "outputs": [],
   "source": []
  }
 ],
 "metadata": {
  "kernelspec": {
   "display_name": "pygsti_idle_tomography",
   "language": "python",
   "name": "pygsti_idle_tomography"
  },
  "language_info": {
   "codemirror_mode": {
    "name": "ipython",
    "version": 3
   },
   "file_extension": ".py",
   "mimetype": "text/x-python",
   "name": "python",
   "nbconvert_exporter": "python",
   "pygments_lexer": "ipython3",
   "version": "3.9.13"
  }
 },
 "nbformat": 4,
 "nbformat_minor": 5
}
