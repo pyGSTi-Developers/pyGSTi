{
 "cells": [
  {
   "cell_type": "code",
   "execution_count": 2,
   "id": "75718bca-af78-4e1b-8f72-92a3a11965c8",
   "metadata": {},
   "outputs": [],
   "source": [
    "import stim\n",
    "import pygsti\n",
    "from pygsti.extras.idletomography.idtcore import stochastic_jac_alt, build_class_jacobian\n",
    "from pygsti.extras.idletomography.pauliobjs import NQPauliState\n",
    "import numpy as np"
   ]
  },
  {
   "cell_type": "markdown",
   "id": "4d51a9f5-fa9a-485c-afc2-06cea28808c4",
   "metadata": {},
   "source": [
    "Question I need to answer is: when is trace(RPQP) - trace(RQ), where R, Q and P are paulis, and R and Q can be signed. (This comes from working through the jacobian for the stochastic terms by hand."
   ]
  },
  {
   "cell_type": "code",
   "execution_count": 3,
   "id": "e50f471f-7fb7-469f-8933-e5709621c490",
   "metadata": {},
   "outputs": [],
   "source": [
    "sto_jac , pairs=  stochastic_jac_alt(1)"
   ]
  },
  {
   "cell_type": "code",
   "execution_count": 12,
   "id": "47006900-1faa-48aa-b3dd-909628823f92",
   "metadata": {},
   "outputs": [
    {
     "data": {
      "text/plain": [
       "[('+X', '+X'),\n",
       " ('+X', '+Y'),\n",
       " ('+X', '+Z'),\n",
       " ('-X', '+X'),\n",
       " ('-X', '+Y'),\n",
       " ('-X', '+Z'),\n",
       " ('+Y', '+X'),\n",
       " ('+Y', '+Y'),\n",
       " ('+Y', '+Z'),\n",
       " ('-Y', '+X'),\n",
       " ('-Y', '+Y'),\n",
       " ('-Y', '+Z'),\n",
       " ('+Z', '+X'),\n",
       " ('+Z', '+Y'),\n",
       " ('+Z', '+Z'),\n",
       " ('-Z', '+X'),\n",
       " ('-Z', '+Y'),\n",
       " ('-Z', '+Z')]"
      ]
     },
     "execution_count": 12,
     "metadata": {},
     "output_type": "execute_result"
    }
   ],
   "source": [
    "pairs"
   ]
  },
  {
   "cell_type": "code",
   "execution_count": 4,
   "id": "e8674a30-2f34-46a3-9806-f0829f0f0211",
   "metadata": {},
   "outputs": [
    {
     "data": {
      "text/plain": [
       "array([[ 0., -2., -2.],\n",
       "       [ 0.,  0.,  0.],\n",
       "       [ 0.,  0.,  0.],\n",
       "       [ 0.,  2.,  2.],\n",
       "       [ 0.,  0.,  0.],\n",
       "       [ 0.,  0.,  0.],\n",
       "       [ 0.,  0.,  0.],\n",
       "       [-2.,  0., -2.],\n",
       "       [ 0.,  0.,  0.],\n",
       "       [ 0.,  0.,  0.],\n",
       "       [ 2.,  0.,  2.],\n",
       "       [ 0.,  0.,  0.],\n",
       "       [ 0.,  0.,  0.],\n",
       "       [ 0.,  0.,  0.],\n",
       "       [-2., -2.,  0.],\n",
       "       [ 0.,  0.,  0.],\n",
       "       [ 0.,  0.,  0.],\n",
       "       [ 2.,  2.,  0.]])"
      ]
     },
     "execution_count": 4,
     "metadata": {},
     "output_type": "execute_result"
    }
   ],
   "source": [
    "sto_jac"
   ]
  },
  {
   "cell_type": "code",
   "execution_count": 5,
   "id": "2972cea9-91b7-4ca8-8228-1607ca1febe3",
   "metadata": {},
   "outputs": [],
   "source": [
    "same_pairs = [pair for pair in pairs if pair[0][-1] == pair[1][-1]]"
   ]
  },
  {
   "cell_type": "code",
   "execution_count": 7,
   "id": "f99e875d-734f-4390-b454-0b8f74813bb9",
   "metadata": {},
   "outputs": [
    {
     "data": {
      "text/plain": [
       "[('+X', '+X'),\n",
       " ('-X', '+X'),\n",
       " ('+Y', '+Y'),\n",
       " ('-Y', '+Y'),\n",
       " ('+Z', '+Z'),\n",
       " ('-Z', '+Z')]"
      ]
     },
     "execution_count": 7,
     "metadata": {},
     "output_type": "execute_result"
    }
   ],
   "source": [
    "same_pairs"
   ]
  },
  {
   "cell_type": "code",
   "execution_count": 6,
   "id": "216441c0-7e79-4d8b-bd29-2eb5ad89b9ca",
   "metadata": {},
   "outputs": [
    {
     "name": "stdout",
     "output_type": "stream",
     "text": [
      "4\n"
     ]
    },
    {
     "data": {
      "text/plain": [
       "{(('+X', '+X'), 'Y'): -2.0,\n",
       " (('-X', '+X'), 'Y'): 2.0,\n",
       " (('+X', '+X'), 'Z'): -2.0,\n",
       " (('-X', '+X'), 'Z'): 2.0,\n",
       " (('+Y', '+Y'), 'X'): -2.0,\n",
       " (('-Y', '+Y'), 'X'): 2.0,\n",
       " (('+Y', '+Y'), 'Z'): -2.0,\n",
       " (('-Y', '+Y'), 'Z'): 2.0,\n",
       " (('+Z', '+Z'), 'X'): -2.0,\n",
       " (('-Z', '+Z'), 'X'): 2.0,\n",
       " (('+Z', '+Z'), 'Y'): -2.0,\n",
       " (('-Z', '+Z'), 'Y'): 2.0}"
      ]
     },
     "execution_count": 6,
     "metadata": {},
     "output_type": "execute_result"
    }
   ],
   "source": [
    "build_class_jacobian('S',1)"
   ]
  },
  {
   "cell_type": "code",
   "execution_count": 13,
   "id": "e1092cf4-aef3-46e7-829e-34d1e56e381e",
   "metadata": {},
   "outputs": [
    {
     "name": "stdout",
     "output_type": "stream",
     "text": [
      "4\n",
      "{('+X', '+X'): array([[ 0., -2., -2.]]), ('-X', '+X'): array([[0., 2., 2.]]), ('+Y', '+Y'): array([[-2.,  0., -2.]]), ('-Y', '+Y'): array([[2., 0., 2.]]), ('+Z', '+Z'): array([[-2., -2.,  0.]]), ('-Z', '+Z'): array([[2., 2., 0.]])}\n",
      "[[ 0. -2. -2.]\n",
      " [ 0.  2.  2.]\n",
      " [-2.  0. -2.]\n",
      " [ 2.  0.  2.]\n",
      " [-2. -2.  0.]\n",
      " [ 2.  2.  0.]]\n"
     ]
    }
   ],
   "source": [
    "sto_jac_orig = build_class_jacobian('S', 1)\n",
    "#refactor this to match output of new code\n",
    "sto_jac_orig_refactored_dict = {}\n",
    "for pair in same_pairs:\n",
    "    sto_jac_orig_refactored_dict[pair] = np.zeros((1,3))\n",
    "    for (key, val) in sto_jac_orig.items():\n",
    "        if key[0] == pair:\n",
    "            if key[1] =='X':\n",
    "                sto_jac_orig_refactored_dict[pair] += np.array([val, 0, 0])\n",
    "            if key[1] =='Y':\n",
    "                sto_jac_orig_refactored_dict[key[0]] += np.array([0, val, 0])\n",
    "            if key[1] =='Z':\n",
    "                sto_jac_orig_refactored_dict[key[0]] += np.array([0, 0, val])\n",
    "\n",
    "sto_jac_orig_refactored = np.concatenate([array for array in sto_jac_orig_refactored_dict.values()], axis = 0)\n",
    "print(sto_jac_orig_refactored_dict)\n",
    "print(sto_jac_orig_refactored)"
   ]
  },
  {
   "cell_type": "code",
   "execution_count": 14,
   "id": "15e22469-b327-425e-a1c8-7c4c967e26ac",
   "metadata": {},
   "outputs": [
    {
     "name": "stdout",
     "output_type": "stream",
     "text": [
      "('+X', '+X')  [ 0. -2. -2.]  [ 0. -2. -2.]\n",
      "('-X', '+X')  [0. 2. 2.]  [0. 2. 2.]\n",
      "('+Y', '+Y')  [-2.  0. -2.]  [-2.  0. -2.]\n",
      "('-Y', '+Y')  [2. 0. 2.]  [2. 0. 2.]\n",
      "('+Z', '+Z')  [-2. -2.  0.]  [-2. -2.  0.]\n",
      "('-Z', '+Z')  [2. 2. 0.]  [2. 2. 0.]\n"
     ]
    }
   ],
   "source": [
    "j=0\n",
    "for i in range(len(pairs)):\n",
    "    #only print the ones where the prep and meas are the same.\n",
    "    if pairs[i][0][-1] != pairs[i][1][-1]:\n",
    "        continue\n",
    "    print(f'{pairs[i]}  {sto_jac[i,:]}  {sto_jac_orig_refactored[j, :]}')\n",
    "    j+=1"
   ]
  },
  {
   "cell_type": "code",
   "execution_count": null,
   "id": "0788668b-aefa-438c-ae08-2c9115db7427",
   "metadata": {},
   "outputs": [],
   "source": []
  }
 ],
 "metadata": {
  "kernelspec": {
   "display_name": "pygsti_idle_tomography",
   "language": "python",
   "name": "pygsti_idle_tomography"
  },
  "language_info": {
   "codemirror_mode": {
    "name": "ipython",
    "version": 3
   },
   "file_extension": ".py",
   "mimetype": "text/x-python",
   "name": "python",
   "nbconvert_exporter": "python",
   "pygments_lexer": "ipython3",
   "version": "3.9.13"
  }
 },
 "nbformat": 4,
 "nbformat_minor": 5
}
